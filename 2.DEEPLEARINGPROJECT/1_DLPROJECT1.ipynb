{
  "nbformat": 4,
  "nbformat_minor": 0,
  "metadata": {
    "colab": {
      "provenance": [],
      "gpuType": "T4"
    },
    "kernelspec": {
      "name": "python3",
      "display_name": "Python 3"
    },
    "language_info": {
      "name": "python"
    },
    "accelerator": "GPU"
  },
  "cells": [
    {
      "cell_type": "markdown",
      "source": [
        "### **📚 Deep Learning Project: Handwritten Digit Classification**\n",
        "- Project Overview\n",
        "- Objective: Build a neural network to classify handwritten digits from the MNIST dataset.\n",
        "= Framework: Keras with TensorFlow backend.\n",
        "- Dataset: MNIST (Modified National Institute of Standards and Technology)\n",
        "- JULY 2024\n",
        "- PARIAML AUTADE"
      ],
      "metadata": {
        "id": "Zo-2SDGt42XL"
      }
    },
    {
      "cell_type": "code",
      "execution_count": 1,
      "metadata": {
        "id": "5i91L_hg4vL2"
      },
      "outputs": [],
      "source": [
        "import numpy as np\n",
        "import pandas as pd\n",
        "import matplotlib.pyplot as plt\n"
      ]
    },
    {
      "cell_type": "code",
      "source": [
        "from tensorflow.keras.datasets import mnist #MNIST DATASET\n",
        "from tensorflow.keras.models import Sequential\n",
        "from tensorflow.keras.layers import Dense, Flatten\n",
        "from tensorflow.keras.utils import to_categorical\n",
        "import warnings\n",
        "warnings.filterwarnings(\"ignore\")\n"
      ],
      "metadata": {
        "id": "mJqoKdyG6uUM"
      },
      "execution_count": 3,
      "outputs": []
    },
    {
      "cell_type": "markdown",
      "source": [
        "- from tensorflow.keras.layers import Dense, Flatten\n",
        "Use:\n",
        "-- Dense: Adds fully connected layers to the neural network where each neuron is connected to every neuron in the previous layer.\n",
        "-- Flatten: Converts the 2D image data into a 1D array so it can be used by the Dense layers.(2dto 1d)\n",
        "- from tensorflow.keras.utils import to_categorical\n",
        "-- Use: Converts class labels (numbers) into a one-hot encoded format, which is needed for classification tasks.\n"
      ],
      "metadata": {
        "id": "t3JzBJyt7SQs"
      }
    },
    {
      "cell_type": "markdown",
      "source": [
        "## **1.LOAD THE DATASET**"
      ],
      "metadata": {
        "id": "zfWArYip7-6A"
      }
    },
    {
      "cell_type": "code",
      "source": [
        "(x_train, y_train), (x_test, y_test) = mnist.load_data()\n",
        "\n",
        "# Normalize the data\n",
        "x_train = x_train / 255.0\n",
        "x_test = x_test / 255.0\n",
        "\n",
        "# Convert labels to one-hot encoding\n",
        "y_train = to_categorical(y_train, 10)\n",
        "y_test = to_categorical(y_test, 10)\n"
      ],
      "metadata": {
        "colab": {
          "base_uri": "https://localhost:8080/"
        },
        "id": "BKDl8MhB7k4M",
        "outputId": "18dc9ce3-4ff8-4c37-979a-aafd9f11ead1"
      },
      "execution_count": 4,
      "outputs": [
        {
          "output_type": "stream",
          "name": "stdout",
          "text": [
            "Downloading data from https://storage.googleapis.com/tensorflow/tf-keras-datasets/mnist.npz\n",
            "11490434/11490434 [==============================] - 0s 0us/step\n"
          ]
        }
      ]
    },
    {
      "cell_type": "markdown",
      "source": [
        "## **2.BUILD THE MODEL**"
      ],
      "metadata": {
        "id": "7BgIQZg68ZYe"
      }
    },
    {
      "cell_type": "code",
      "source": [
        "# Initialize the model\n",
        "model = Sequential() # MODEL - neural network\n",
        "\n",
        "# Add layers\n",
        "model.add(Flatten(input_shape=(28, 28)))  # Flatten the input images: latten: This layer transforms the 2D image data (28x28 pixels) into a 1D array (a vector).\n",
        "model.add(Dense(128, activation='relu'))   # Hidden layer with 128 neurons # hidden layers\n",
        "model.add(Dense(10, activation='softmax')) # Output layer with 10 classes#output layer\n",
        "# 10: This output layer has 10 neurons, corresponding to the 10 possible digit classes (0-9).\n",
        "\n",
        "# Compile the model\n",
        "model.compile(optimizer='adam',\n",
        "              loss='categorical_crossentropy',\n",
        "              metrics=['accuracy'])\n",
        "#Compile: Set up the model with an optimizer, a loss function, and metrics for evaluation.\n"
      ],
      "metadata": {
        "id": "HRBG0cEw8d5k"
      },
      "execution_count": 5,
      "outputs": []
    },
    {
      "cell_type": "markdown",
      "source": [
        "- *optimizer='adam': Adam is an optimization algorithm that adjusts the weights of the network during training to minimize the loss function.\n",
        "- loss='categorical_crossentropy': This loss function is used for classification problems with multiple classes. It measures how well the predicted probabilities match the actual class labels.\n",
        "- metrics=['accuracy']: Accuracy is the metric used to evaluate the performance of the model during training and testing*"
      ],
      "metadata": {
        "id": "cuk1iOKE9YHL"
      }
    },
    {
      "cell_type": "markdown",
      "source": [
        "**Build the Model: Define the neural network’s architecture.\n",
        "- Compile the Model: Set up the optimization and evaluation criteria.\n",
        "- Train the Model: Use training data to adjust the model’s weights and improve its accuracy**"
      ],
      "metadata": {
        "id": "afytvIc0-8Nw"
      }
    },
    {
      "cell_type": "markdown",
      "source": [
        "**## 3.Train the model:**"
      ],
      "metadata": {
        "id": "iZ5erGDp97ri"
      }
    },
    {
      "cell_type": "code",
      "source": [
        "# Train the model\n",
        "history = model.fit(x_train, y_train,\n",
        "                    epochs=5,\n",
        "                    batch_size=32,\n",
        "                    validation_split=0.2)"
      ],
      "metadata": {
        "colab": {
          "base_uri": "https://localhost:8080/"
        },
        "id": "JYknR1Jn98MA",
        "outputId": "a0604225-3629-4485-fde8-54232e9cf55a"
      },
      "execution_count": 6,
      "outputs": [
        {
          "output_type": "stream",
          "name": "stdout",
          "text": [
            "Epoch 1/5\n",
            "1500/1500 [==============================] - 7s 4ms/step - loss: 0.2849 - accuracy: 0.9196 - val_loss: 0.1553 - val_accuracy: 0.9543\n",
            "Epoch 2/5\n",
            "1500/1500 [==============================] - 8s 5ms/step - loss: 0.1289 - accuracy: 0.9626 - val_loss: 0.1246 - val_accuracy: 0.9627\n",
            "Epoch 3/5\n",
            "1500/1500 [==============================] - 6s 4ms/step - loss: 0.0896 - accuracy: 0.9734 - val_loss: 0.0992 - val_accuracy: 0.9709\n",
            "Epoch 4/5\n",
            "1500/1500 [==============================] - 8s 5ms/step - loss: 0.0656 - accuracy: 0.9804 - val_loss: 0.0895 - val_accuracy: 0.9711\n",
            "Epoch 5/5\n",
            "1500/1500 [==============================] - 7s 5ms/step - loss: 0.0495 - accuracy: 0.9852 - val_loss: 0.0940 - val_accuracy: 0.9723\n"
          ]
        }
      ]
    },
    {
      "cell_type": "markdown",
      "source": [
        "- Epochs:Number of times the model will see the entire training dataset\n",
        "- batch_size: Number of samples processed before the model's weights are updated\n",
        "- validation_split=0 :Portion of training data to be used for validation"
      ],
      "metadata": {
        "id": "7PXyPZTR_S8O"
      }
    },
    {
      "cell_type": "markdown",
      "source": [
        "**4.Evaluate the model:**"
      ],
      "metadata": {
        "id": "jEPw8xoBADJo"
      }
    },
    {
      "cell_type": "code",
      "source": [
        "# Evaluate the model on test data\n",
        "test_loss, test_accuracy = model.evaluate(x_test, y_test)\n",
        "\n",
        "print(f\"Test Loss: {test_loss}\")\n",
        "print(f\"Test Accuracy: {test_accuracy}\")"
      ],
      "metadata": {
        "colab": {
          "base_uri": "https://localhost:8080/"
        },
        "id": "Vswj4fpJ98RS",
        "outputId": "7e3c3e3f-695b-4656-ae57-cfad3f455d5c"
      },
      "execution_count": 8,
      "outputs": [
        {
          "output_type": "stream",
          "name": "stdout",
          "text": [
            "313/313 [==============================] - 1s 3ms/step - loss: 0.0905 - accuracy: 0.9741\n",
            "Test Loss: 0.0904795378446579\n",
            "Test Accuracy: 0.9740999937057495\n"
          ]
        }
      ]
    },
    {
      "cell_type": "code",
      "source": [
        "# Plot training and validation accuracy\n",
        "plt.plot(history.history['accuracy'], label='Train Accuracy')\n",
        "plt.plot(history.history['val_accuracy'], label='Validation Accuracy')\n",
        "plt.xlabel('Epoch')\n",
        "plt.ylabel('Accuracy')\n",
        "plt.legend()\n",
        "plt.show()"
      ],
      "metadata": {
        "colab": {
          "base_uri": "https://localhost:8080/",
          "height": 449
        },
        "id": "6QRi-h41-PSf",
        "outputId": "3faf33ad-00f6-46dd-bcfc-3427e1544f62"
      },
      "execution_count": 9,
      "outputs": [
        {
          "output_type": "display_data",
          "data": {
            "text/plain": [
              "<Figure size 640x480 with 1 Axes>"
            ],
            "image/png": "[encoded data removed]"
          },
          "metadata": {}
        }
      ]
    },
    {
      "cell_type": "code",
      "source": [
        "# Predict the class of the first test image\n",
        "predictions = model.predict(x_test)\n",
        "predicted_label = np.argmax(predictions[0])\n",
        "print(f\"Predicted Label: {predicted_label}\")"
      ],
      "metadata": {
        "colab": {
          "base_uri": "https://localhost:8080/"
        },
        "id": "HMVg5Fqy-VNj",
        "outputId": "54840137-b652-4108-91d0-2dca35a6f976"
      },
      "execution_count": 10,
      "outputs": [
        {
          "output_type": "stream",
          "name": "stdout",
          "text": [
            "313/313 [==============================] - 1s 2ms/step\n",
            "Predicted Label: 7\n"
          ]
        }
      ]
    },
    {
      "cell_type": "code",
      "source": [
        "# Display the first test image and its prediction\n",
        "plt.imshow(x_test[0], cmap='gray')\n",
        "plt.title(f\"Predicted Label: {predicted_label}\")\n",
        "plt.show()"
      ],
      "metadata": {
        "colab": {
          "base_uri": "https://localhost:8080/",
          "height": 452
        },
        "id": "tDj52vOn-XQe",
        "outputId": "bf4b5b05-84cd-4339-fef0-743e76beddac"
      },
      "execution_count": 11,
      "outputs": [
        {
          "output_type": "display_data",
          "data": {
            "text/plain": [
              "<Figure size 640x480 with 1 Axes>"
            ],
            "image/png": "[encoded data removed]"
          },
          "metadata": {}
        }
      ]
    },
    {
      "cell_type": "code",
      "source": [
        "# Predict the class of the first test image\n",
        "predictions = model.predict(x_test)\n",
        "predicted_label = np.argmax(predictions[1])\n",
        "print(f\"Predicted Label: {predicted_label}\")"
      ],
      "metadata": {
        "colab": {
          "base_uri": "https://localhost:8080/"
        },
        "id": "ssR9qZSbAsq0",
        "outputId": "b97b1e98-8308-42eb-d06e-a5610b9fa596"
      },
      "execution_count": 17,
      "outputs": [
        {
          "output_type": "stream",
          "name": "stdout",
          "text": [
            "313/313 [==============================] - 1s 3ms/step\n",
            "Predicted Label: 2\n"
          ]
        }
      ]
    },
    {
      "cell_type": "code",
      "source": [
        "# Display the first test image and its prediction\n",
        "plt.imshow(x_test[1], cmap='gray')\n",
        "plt.title(f\"Predicted Label: {predicted_label}\")\n",
        "plt.show()"
      ],
      "metadata": {
        "colab": {
          "base_uri": "https://localhost:8080/",
          "height": 452
        },
        "id": "wPkXQRsM9g4c",
        "outputId": "c5ddee19-9693-4dc0-dbf4-b3faa6363390"
      },
      "execution_count": 18,
      "outputs": [
        {
          "output_type": "display_data",
          "data": {
            "text/plain": [
              "<Figure size 640x480 with 1 Axes>"
            ],
            "image/png": "[encoded data removed]"
          },
          "metadata": {}
        }
      ]
    },
    {
      "cell_type": "markdown",
      "source": [
        "**SAVE THE MODEL**"
      ],
      "metadata": {
        "id": "TT-Le-NeB3uC"
      }
    },
    {
      "cell_type": "code",
      "source": [
        "model.save('mnist_model.h5')\n"
      ],
      "metadata": {
        "id": "2WVNdMbbBed1"
      },
      "execution_count": 20,
      "outputs": []
    }
  ]
}